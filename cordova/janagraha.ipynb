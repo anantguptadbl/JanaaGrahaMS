{
  "nbformat": 4,
  "nbformat_minor": 0,
  "metadata": {
    "colab": {
      "name": "Untitled0.ipynb",
      "version": "0.3.2",
      "provenance": [],
      "collapsed_sections": []
    },
    "kernelspec": {
      "name": "python3",
      "display_name": "Python 3"
    },
    "accelerator": "GPU"
  },
  "cells": [
    {
      "metadata": {
        "id": "sGWxtGajFLpp",
        "colab_type": "code",
        "colab": {}
      },
      "cell_type": "code",
      "source": [
        "!apt install proj-bin libproj-dev libgeos-dev\n",
        "!pip install https://github.com/matplotlib/basemap/archive/v1.1.0.tar.gz"
      ],
      "execution_count": 0,
      "outputs": []
    },
    {
      "metadata": {
        "id": "QXsUmeJWFTwn",
        "colab_type": "code",
        "colab": {}
      },
      "cell_type": "code",
      "source": [
        "import importlib\n",
        "from mpl_toolkits.basemap import Basemap\n",
        "import pandas as pd\n",
        "import io"
      ],
      "execution_count": 0,
      "outputs": []
    },
    {
      "metadata": {
        "id": "NyffhiLeMzc_",
        "colab_type": "code",
        "colab": {}
      },
      "cell_type": "code",
      "source": [
        "from google.colab import drive\n",
        "drive.mount('/content/gdrive')\n",
        "!wget "
      ],
      "execution_count": 0,
      "outputs": []
    },
    {
      "metadata": {
        "id": "X84LMGRFM-lF",
        "colab_type": "code",
        "colab": {}
      },
      "cell_type": "code",
      "source": [
        "!ls 'gdrive/My Drive/Janagraha'"
      ],
      "execution_count": 0,
      "outputs": []
    },
    {
      "metadata": {
        "id": "t07jAd954vqK",
        "colab_type": "code",
        "colab": {}
      },
      "cell_type": "code",
      "source": [
        "mydata = pd.read_csv('gdrive/My Drive/Janagraha/mydata.txt')\n",
        "mydata1 = pd.read_csv('gdrive/My Drive/Janagraha/mydata1.txt')\n",
        "mydata2 = pd.read_csv('gdrive/My Drive/Janagraha/mydata2.txt')\n",
        "mylabel1 = pd.read_csv('gdrive/My Drive/Janagraha/myLabel1.txt')\n",
        "mylabel2 = pd.read_csv('gdrive/My Drive/Janagraha/myLabel2.txt')"
      ],
      "execution_count": 0,
      "outputs": []
    },
    {
      "metadata": {
        "id": "-Yho8KubUbVp",
        "colab_type": "code",
        "colab": {}
      },
      "cell_type": "code",
      "source": [
        "mylabel2"
      ],
      "execution_count": 0,
      "outputs": []
    },
    {
      "metadata": {
        "id": "SZHjJRmBFmYc",
        "colab_type": "code",
        "colab": {}
      },
      "cell_type": "code",
      "source": [
        "\n",
        "# read in data to use for plotted points\n",
        "\n",
        "lat = mydata2['latitude'].values\n",
        "lon = mydata2['longitude'].values\n",
        "\n",
        "lat_label = mylabel2['latitude'].values\n",
        "lon_label = mylabel2['longitude'].values\n",
        "\n",
        "\n",
        "# determine range to print based on min, max lat and lon of the data\n",
        "margin = 0.001 # buffer to add to the range\n",
        "lat_min = min(lat) - margin\n",
        "lat_max = max(lat) + margin\n",
        "lon_min = min(lon) - margin\n",
        "lon_max = max(lon) + margin\n",
        "\n",
        "# create map using BASEMAP\n",
        "m = Basemap(llcrnrlon=lon_min,\n",
        "            llcrnrlat=lat_min,\n",
        "            urcrnrlon=lon_max,\n",
        "            urcrnrlat=lat_max,\n",
        "            lat_0=(lat_max - lat_min)/2,\n",
        "            lon_0=(lon_max-lon_min)/2,\n",
        "            projection='merc',\n",
        "            resolution = 'h',\n",
        "            area_thresh=10000.,\n",
        "            )\n",
        "m.fillcontinents(color = 'white',lake_color='#46bcec')\n",
        "# convert lat and lon to map projection coordinates\n",
        "lons, lats = m(lon, lat)\n",
        "lons_label,lats_label=m(lon_label, lat_label)\n",
        "# plot points as red dots\n",
        "m.scatter(lons, lats, marker = 'o', color='r', zorder=5)\n",
        "m.scatter(lons_label, lats_label, marker = 'x', color='b', zorder=5)\n"
      ],
      "execution_count": 0,
      "outputs": []
    },
    {
      "metadata": {
        "id": "qYsjPOEa7gje",
        "colab_type": "code",
        "colab": {}
      },
      "cell_type": "code",
      "source": [
        "mydata2['latitude'][0]"
      ],
      "execution_count": 0,
      "outputs": []
    },
    {
      "metadata": {
        "id": "JxwhefopLhme",
        "colab_type": "code",
        "colab": {}
      },
      "cell_type": "code",
      "source": [
        "import matplotlib.pyplot as plt\n",
        "plt.figure(figsize=(23,40))\n",
        "x = pd.Series(range(0,len(mydata2)))\n",
        "plt.subplot(6, 1, 1)\n",
        "plt.plot(x, mydata2['accelerationX'], '.-')\n",
        "plt.title('Accelerometer data')\n",
        "plt.ylabel('X acceleration')\n",
        "plt.xlabel('time (s)')\n",
        "\n",
        "plt.subplot(6, 1, 2)\n",
        "plt.plot(x, mydata2['accelerationY'], '.-')\n",
        "plt.xlabel('time (s)')\n",
        "plt.ylabel('Y acceleration')\n",
        "\n",
        "plt.subplot(6, 1, 3)\n",
        "plt.plot(x, mydata2['accelerationZ'], '.-')\n",
        "plt.xlabel('time (s)')\n",
        "plt.ylabel('Z acceleration')\n",
        "\n",
        "plt.subplot(6, 1, 4)\n",
        "plt.plot(x, mydata2['accelerationIncludingGravityX'], '.-')\n",
        "plt.xlabel('time (s)')\n",
        "plt.ylabel('X acceleration inc Gravity')\n",
        "\n",
        "plt.subplot(6, 1, 5)\n",
        "plt.plot(x, mydata2['accelerationIncludingGravityX'], '.-')\n",
        "plt.xlabel('time (s)')\n",
        "plt.ylabel('Y acceleration  inc Gravity')\n",
        "\n",
        "plt.subplot(6, 1, 6)\n",
        "plt.plot(x, mydata2['accelerationIncludingGravityX'], '.-')\n",
        "plt.xlabel('time (s)')\n",
        "plt.ylabel('Z acceleration  inc Gravity')\n",
        "\n",
        "plt.show()"
      ],
      "execution_count": 0,
      "outputs": []
    },
    {
      "metadata": {
        "id": "UBT2JWkT-wuW",
        "colab_type": "code",
        "colab": {}
      },
      "cell_type": "code",
      "source": [
        "thres = .00001\n",
        "label = []\n",
        "for i in range(len(mydata2)) :\n",
        "  l = 0\n",
        "  for j in range(len(mylabel2)) :\n",
        "    dist = abs(mydata2['latitude'][i] - mylabel2['latitude'][j]) + abs(mydata2['longitude'][i] - mylabel2['longitude'][j])\n",
        "    if dist < thres :\n",
        "      l = 1\n",
        "      break\n",
        "  label.append(l)"
      ],
      "execution_count": 0,
      "outputs": []
    },
    {
      "metadata": {
        "id": "Kc5hSxA4WApq",
        "colab_type": "code",
        "colab": {}
      },
      "cell_type": "code",
      "source": [
        "mydata2['label'] = pd.Series(label)"
      ],
      "execution_count": 0,
      "outputs": []
    },
    {
      "metadata": {
        "id": "j-pz29UbWN70",
        "colab_type": "code",
        "colab": {}
      },
      "cell_type": "code",
      "source": [
        "potholeIndex = mydata2[mydata2['label']==1].index.values"
      ],
      "execution_count": 0,
      "outputs": []
    },
    {
      "metadata": {
        "id": "oMtLOyUuXVYp",
        "colab_type": "code",
        "colab": {}
      },
      "cell_type": "code",
      "source": [
        "mydata2['label']"
      ],
      "execution_count": 0,
      "outputs": []
    },
    {
      "metadata": {
        "id": "3ttG3GQPYyZV",
        "colab_type": "code",
        "colab": {}
      },
      "cell_type": "code",
      "source": [
        "import matplotlib.pyplot as plt\n",
        "plt.figure(figsize=(23,40))\n",
        "x = pd.Series(range(0,len(mydata2)))\n",
        "plt.subplot(6, 1, 1)\n",
        "plt.plot(x, mydata2['accelerationX'], '.-')\n",
        "plt.title('Accelerometer data')\n",
        "plt.ylabel('X acceleration')\n",
        "plt.xlabel('time (s)')\n",
        "\n",
        "plt.subplot(6, 1, 2)\n",
        "plt.plot(x, mydata2['accelerationY'], '.-')\n",
        "plt.xlabel('time (s)')\n",
        "plt.ylabel('Y acceleration')\n",
        "\n",
        "plt.subplot(6, 1, 3)\n",
        "plt.plot(x, mydata2['accelerationZ'], '.-')\n",
        "plt.xlabel('time (s)')\n",
        "plt.ylabel('Z acceleration')\n",
        "\n",
        "plt.subplot(6, 1, 4)\n",
        "plt.plot(x, mydata2['accelerationIncludingGravityX'], '.-')\n",
        "plt.xlabel('time (s)')\n",
        "plt.ylabel('X acceleration inc Gravity')\n",
        "\n",
        "plt.subplot(6, 1, 5)\n",
        "plt.plot(x, mydata2['accelerationIncludingGravityX'], '.-')\n",
        "plt.xlabel('time (s)')\n",
        "plt.ylabel('Y acceleration  inc Gravity')\n",
        "\n",
        "plt.subplot(6, 1, 6)\n",
        "plt.plot(x, mydata2['accelerationIncludingGravityX'], '.-')\n",
        "plt.xlabel('time (s)')\n",
        "plt.ylabel('Z acceleration  inc Gravity')\n",
        "\n",
        "wdth = 1\n",
        "for i in range(len(potholeIndex)) :\n",
        "  plt.subplot(6, 1, 1)\n",
        "  plt.axvspan(potholeIndex[i], potholeIndex[i]+wdth, facecolor='0.2', alpha=0.5)\n",
        "  plt.subplot(6, 1, 2)\n",
        "  plt.axvspan(potholeIndex[i], potholeIndex[i]+wdth, facecolor='0.2', alpha=0.5)\n",
        "  plt.subplot(6, 1, 3)\n",
        "  plt.axvspan(potholeIndex[i], potholeIndex[i]+wdth, facecolor='0.2', alpha=0.5)\n",
        "  plt.subplot(6, 1, 4)\n",
        "  plt.axvspan(potholeIndex[i], potholeIndex[i]+wdth, facecolor='0.2', alpha=0.5)\n",
        "  plt.subplot(6, 1, 5)\n",
        "  plt.axvspan(potholeIndex[i], potholeIndex[i]+wdth, facecolor='0.2', alpha=0.5)\n",
        "  plt.subplot(6, 1, 6)\n",
        "  plt.axvspan(potholeIndex[i], potholeIndex[i]+wdth, facecolor='0.2', alpha=0.5)\n",
        "\n",
        "plt.show()"
      ],
      "execution_count": 0,
      "outputs": []
    },
    {
      "metadata": {
        "id": "hYPNIcwdZKvE",
        "colab_type": "code",
        "colab": {}
      },
      "cell_type": "code",
      "source": [
        "len(mydata2)"
      ],
      "execution_count": 0,
      "outputs": []
    },
    {
      "metadata": {
        "id": "pimnjMIwdpTM",
        "colab_type": "code",
        "colab": {}
      },
      "cell_type": "code",
      "source": [
        ""
      ],
      "execution_count": 0,
      "outputs": []
    }
  ]
}